{
 "cells": [
  {
   "cell_type": "markdown",
   "id": "409fd472-535f-43f8-8154-c01c155c98ca",
   "metadata": {},
   "source": [
    "### Natural Language Processing\n",
    "#### WebScraping + Regular Expression + Pandas"
   ]
  },
  {
   "cell_type": "code",
   "execution_count": 1,
   "id": "53ec5870-9995-42f6-aa1f-2a64970ae44e",
   "metadata": {},
   "outputs": [],
   "source": [
    "from bs4 import BeautifulSoup \n",
    "import requests"
   ]
  },
  {
   "cell_type": "code",
   "execution_count": 3,
   "id": "7167ddb6-4083-4401-86cb-c9a6b2a32468",
   "metadata": {},
   "outputs": [],
   "source": [
    "url = 'http://www.analytictech.com/mb021/mlk.htm'\n",
    "\n",
    "page = requests.get(url)\n",
    "soup = BeautifulSoup(page.text, 'html')"
   ]
  },
  {
   "cell_type": "code",
   "execution_count": 6,
   "id": "3b9f5421-213d-4335-a60b-1332b2631c70",
   "metadata": {},
   "outputs": [],
   "source": [
    "mlkj_speech = soup.find_all('p')"
   ]
  },
  {
   "cell_type": "code",
   "execution_count": 7,
   "id": "de4afcb8-0114-4a27-bd19-36e91a9f3449",
   "metadata": {},
   "outputs": [
    {
     "data": {
      "text/plain": [
       "[<p>I am happy to join with you today in what will go down in\n",
       " history as the greatest demonstration for freedom in the history\n",
       " of our nation. </p>,\n",
       " <p>Five score years ago a great American in whose symbolic shadow\n",
       " we stand today signed the Emancipation Proclamation. This\n",
       " momentous decree came as a great beckoning light of hope to\n",
       " millions of Negro slaves who had been seared in the flames of\n",
       " withering injustice. It came as a joyous daybreak to end the long\n",
       " night of their captivity. </p>,\n",
       " <p>But one hundred years later the Negro is still not free. One\n",
       " hundred years later the life of the Negro is still sadly crippled\n",
       " by the manacles of segregation and the chains of discrimination. </p>,\n",
       " <p>One hundred years later the Negro lives on a lonely island of\n",
       " poverty in the midst of a vast ocean of material prosperity. </p>,\n",
       " <p>One hundred years later the Negro is still languishing in the\n",
       " comers of American society and finds himself in exile in his own\n",
       " land. </p>,\n",
       " <p>We all have come to this hallowed spot to remind America of\n",
       " the fierce urgency of now. Now is the time to rise from the dark\n",
       " and desolate valley of segregation to the sunlit path of racial\n",
       " justice. Now is the time to change racial injustice to the solid\n",
       " rock of brotherhood. Now is the time to make justice ring out for\n",
       " all of God's children. </p>,\n",
       " <p>There will be neither rest nor tranquility in America until\n",
       " the Negro is granted citizenship rights. </p>,\n",
       " <p>We must forever conduct our struggle on the high plane of\n",
       " dignity and discipline. We must not allow our creative protest to\n",
       " degenerate into physical violence. Again and again we must rise\n",
       " to the majestic heights of meeting physical force with soul\n",
       " force. </p>,\n",
       " <p>And the marvelous new militarism which has engulfed the Negro\n",
       " community must not lead us to a distrust of all white people, for\n",
       " many of our white brothers have evidenced by their presence here\n",
       " today that they have come to realize that their destiny is part\n",
       " of our destiny. </p>,\n",
       " <p>So even though we face the difficulties of today and tomorrow\n",
       " I still have a dream. It is a dream deeply rooted in the American\n",
       " dream. </p>,\n",
       " <p>I have a dream that one day this nation will rise up and live\n",
       " out the true meaning of its creed: 'We hold these truths to be\n",
       " self-evident; that all men are created equal.\" </p>,\n",
       " <p>I have a dream that one day on the red hills of Georgia the\n",
       " sons of former slaves and the sons of former slave owners will be\n",
       " able to sit together at the table of brotherhood. </p>,\n",
       " <p>I have a dream that one day even the state of Mississippi, a\n",
       " state sweltering with the heat of injustice, sweltering with the\n",
       " heat of oppression, will be transformed into an oasis of freedom\n",
       " and justice. </p>,\n",
       " <p>I have a dream that little children will one day live in a\n",
       " nation where they will not be judged by the color of their skin\n",
       " but by the content of their character. </p>,\n",
       " <p>I have a dream today. </p>,\n",
       " <p>I have a dream that one day down in Alabama, with its vicious\n",
       " racists, with its Governor having his lips dripping with the\n",
       " words of interposition and nullification, one day right there in\n",
       " Alabama little black boys and black girls will be able to join\n",
       " hands with little white boys and white girls as sisters and\n",
       " brothers. </p>,\n",
       " <p>I have a dream today. </p>,\n",
       " <p>I have a dream that one day every valley shall be exalted,\n",
       " every hill and mountain shall be made low, the rough places\n",
       " plains, and the crooked places will be made straight, and before\n",
       " the Lord will be revealed, and all flesh shall see it together. </p>,\n",
       " <p>This is our hope. This is the faith that I go back to the\n",
       " mount with. With this faith we will be able to hew out of the\n",
       " mountain of despair a stone of hope. With this faith we will be\n",
       " able to transform the genuine discords of our nation into a\n",
       " beautiful symphony of brotherhood. With this faith we will be\n",
       " able to work together, pray together; to struggle together, to go\n",
       " to jail together, to stand up for freedom forever, )mowing that\n",
       " we will be free one day. </p>,\n",
       " <p>And I say to you today my friends, let freedom ring. From the\n",
       " prodigious hilltops of New Hampshire, let freedom ring. From the\n",
       " mighty mountains of New York, let freedom ring. From the mighty\n",
       " Alleghenies of Pennsylvania! </p>,\n",
       " <p>Let freedom ring from the snow capped Rockies of Colorado! </p>,\n",
       " <p>Let freedom ring from the curvaceous slopes of California! </p>,\n",
       " <p>But not only there; let freedom ring from the Stone Mountain\n",
       " of Georgia! </p>,\n",
       " <p>Let freedom ring from Lookout Mountain in Tennessee! </p>,\n",
       " <p>Let freedom ring from every hill and molehill in Mississippi.\n",
       " From every mountainside, let freedom ring. </p>,\n",
       " <p>And when this happens, when we allow freedom to ring, when we\n",
       " let it ring from every village and hamlet, from every state and\n",
       " every city, we will be able to speed up that day when all of\n",
       " God's children, black men and white men, Jews and Gentiles,\n",
       " Protestants and Catholics, will be able to join hands and sing in\n",
       " the words of the old Negro spiritual, \"Free at last! Free at\n",
       " last! Thank God almighty, we're free at last!\" </p>]"
      ]
     },
     "execution_count": 7,
     "metadata": {},
     "output_type": "execute_result"
    }
   ],
   "source": [
    "mlkj_speech"
   ]
  },
  {
   "cell_type": "code",
   "execution_count": 8,
   "id": "f752bae8-9c04-4b6e-bc0e-172e70267e7c",
   "metadata": {},
   "outputs": [],
   "source": [
    "speech_combined = [p.text for p in mlkj_speech] #get rid of speech tags"
   ]
  },
  {
   "cell_type": "code",
   "execution_count": 9,
   "id": "c2223f52-06e1-4763-a2d4-770b02fc0824",
   "metadata": {},
   "outputs": [
    {
     "data": {
      "text/plain": [
       "list"
      ]
     },
     "execution_count": 9,
     "metadata": {},
     "output_type": "execute_result"
    }
   ],
   "source": [
    "type(speech_combined)"
   ]
  },
  {
   "cell_type": "code",
   "execution_count": 10,
   "id": "01712461-f628-4cc8-997f-e7c0254c700d",
   "metadata": {},
   "outputs": [],
   "source": [
    "str_speech = ' '.join(speech_combined)"
   ]
  },
  {
   "cell_type": "code",
   "execution_count": 12,
   "id": "6fac3cf6-c6eb-490c-bfbd-680c720245e1",
   "metadata": {},
   "outputs": [],
   "source": [
    "str_speech_cleaned = str_speech.replace('\\r\\n', ' ')"
   ]
  },
  {
   "cell_type": "code",
   "execution_count": 14,
   "id": "ad3f30f9-fba5-478d-ad2d-422e0f788491",
   "metadata": {},
   "outputs": [],
   "source": [
    "import re"
   ]
  },
  {
   "cell_type": "code",
   "execution_count": 17,
   "id": "a53c5cd0-4354-4141-9260-6265b9af3261",
   "metadata": {},
   "outputs": [],
   "source": [
    "speech_no_punct = re.sub(r'[^\\w\\s]', '', str_speech_cleaned)"
   ]
  },
  {
   "cell_type": "code",
   "execution_count": 18,
   "id": "7bddc52b-9bc0-4d7d-a7a8-4aff035e16b3",
   "metadata": {},
   "outputs": [],
   "source": [
    "speech_no_punct_lower = speech_no_punct.lower()"
   ]
  },
  {
   "cell_type": "code",
   "execution_count": 21,
   "id": "b2b9f52f-b7d8-4eee-bd56-1e79182472bf",
   "metadata": {},
   "outputs": [],
   "source": [
    "speech_split = re.split(r'\\s+', speech_no_punct_lower)"
   ]
  },
  {
   "cell_type": "code",
   "execution_count": 22,
   "id": "c95f0514-aae3-4f05-b5ff-9ecdd450217e",
   "metadata": {},
   "outputs": [],
   "source": [
    "import pandas as pd"
   ]
  },
  {
   "cell_type": "code",
   "execution_count": 24,
   "id": "41cba2fc-c58d-4f1f-ab76-9e05a7155134",
   "metadata": {},
   "outputs": [],
   "source": [
    "df = pd.DataFrame(speech_split).value_counts()  #groups all the word used"
   ]
  },
  {
   "cell_type": "code",
   "execution_count": 27,
   "id": "2b979518-b2f3-46d5-b4c8-a0569e8c7710",
   "metadata": {},
   "outputs": [],
   "source": [
    "df.to_csv('/Users/kimberly/Downloads/AnalystBuilder Resources/Python Beginner/MLKJ_Speech_Counts.csv', header = ['Counts'], index_label = 'Word')"
   ]
  }
 ],
 "metadata": {
  "kernelspec": {
   "display_name": "Python 3 (ipykernel)",
   "language": "python",
   "name": "python3"
  },
  "language_info": {
   "codemirror_mode": {
    "name": "ipython",
    "version": 3
   },
   "file_extension": ".py",
   "mimetype": "text/x-python",
   "name": "python",
   "nbconvert_exporter": "python",
   "pygments_lexer": "ipython3",
   "version": "3.11.7"
  }
 },
 "nbformat": 4,
 "nbformat_minor": 5
}
