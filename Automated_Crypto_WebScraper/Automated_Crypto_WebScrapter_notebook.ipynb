{
 "cells": [
  {
   "cell_type": "markdown",
   "id": "e6797e8e-3249-4eea-b0c2-d8f08d791a8b",
   "metadata": {},
   "source": [
    "### Auomated Web Scraper"
   ]
  },
  {
   "cell_type": "code",
   "execution_count": 27,
   "id": "e05cd837-d879-4412-adbb-7bacc015dfc3",
   "metadata": {},
   "outputs": [],
   "source": [
    "from bs4 import BeautifulSoup\n",
    "import requests\n",
    "import pandas as pd\n",
    "import os \n",
    "from datetime import datetime\n",
    "import time "
   ]
  },
  {
   "cell_type": "code",
   "execution_count": 28,
   "id": "496e94fe-481a-4822-a5ac-cd7ad40056af",
   "metadata": {},
   "outputs": [],
   "source": [
    "def auto_crypto_pull():\n",
    "\n",
    "    url = 'https://coinmarketcap.com/currencies/bitcoin/'\n",
    "    page = requests.get(url)\n",
    "    soup = BeautifulSoup(page.text, 'html')\n",
    "    \n",
    "    Bitcoin = soup.find('span', 'sc-d1ede7e3-0 bEFegK').text\n",
    "    crypto_name = Bitcoin.replace('\\xa0', '')\n",
    "    \n",
    "    crypto_price = soup.find('span', class_ = 'sc-d1ede7e3-0 fsQm base-text').text\n",
    "    final_price = crypto_price.replace('$', '')\n",
    "    \n",
    "    dt = datetime.now()\n",
    "    \n",
    "    dict = {'Crypto Name': crypto_name,\n",
    "            'Price': final_price,\n",
    "           'TimeStamp': dt}\n",
    "    df = pd.DataFrame([dict])\n",
    "    \n",
    "    if os.path.exists('/Users/kimberly/Downloads/AnalystBuilder Resources/Python Beginner/Cyrpto_Auto.csv'):\n",
    "        df.to_csv('/Users/kimberly/Downloads/AnalystBuilder Resources/Python Beginner/Cyrpto_Auto.csv', mode = 'a', header = False, index = False)\n",
    "    else:\n",
    "        df.to_csv('/Users/kimberly/Downloads/AnalystBuilder Resources/Python Beginner/Cyrpto_Auto.csv', index = False)\n",
    "    print(df)"
   ]
  },
  {
   "cell_type": "code",
   "execution_count": null,
   "id": "35645f79-978a-4da8-a872-aaadbc2072b1",
   "metadata": {},
   "outputs": [
    {
     "name": "stdout",
     "output_type": "stream",
     "text": [
      "     Crypto Name      Price                  TimeStamp\n",
      "0  Bitcoin price  68,897.10 2024-05-25 16:32:38.700704\n",
      "     Crypto Name      Price                  TimeStamp\n",
      "0  Bitcoin price  68,897.10 2024-05-25 16:32:49.553714\n",
      "     Crypto Name      Price                  TimeStamp\n",
      "0  Bitcoin price  68,897.10 2024-05-25 16:33:00.250021\n",
      "     Crypto Name      Price                  TimeStamp\n",
      "0  Bitcoin price  68,923.07 2024-05-25 16:33:10.982151\n",
      "     Crypto Name      Price                  TimeStamp\n",
      "0  Bitcoin price  68,923.07 2024-05-25 16:33:21.719055\n",
      "     Crypto Name      Price                  TimeStamp\n",
      "0  Bitcoin price  68,923.07 2024-05-25 16:33:32.615087\n",
      "     Crypto Name      Price                  TimeStamp\n",
      "0  Bitcoin price  68,923.07 2024-05-25 16:33:43.399333\n",
      "     Crypto Name      Price                  TimeStamp\n",
      "0  Bitcoin price  68,923.07 2024-05-25 16:33:54.135250\n",
      "     Crypto Name      Price                  TimeStamp\n",
      "0  Bitcoin price  68,923.07 2024-05-25 16:34:05.649957\n",
      "     Crypto Name      Price                  TimeStamp\n",
      "0  Bitcoin price  68,923.07 2024-05-25 16:34:16.421812\n",
      "     Crypto Name      Price                  TimeStamp\n",
      "0  Bitcoin price  68,923.07 2024-05-25 16:34:27.127087\n"
     ]
    }
   ],
   "source": [
    "while True:\n",
    "    auto_crypto_pull()\n",
    "    time.sleep(10)"
   ]
  }
 ],
 "metadata": {
  "kernelspec": {
   "display_name": "Python 3 (ipykernel)",
   "language": "python",
   "name": "python3"
  },
  "language_info": {
   "codemirror_mode": {
    "name": "ipython",
    "version": 3
   },
   "file_extension": ".py",
   "mimetype": "text/x-python",
   "name": "python",
   "nbconvert_exporter": "python",
   "pygments_lexer": "ipython3",
   "version": "3.11.7"
  }
 },
 "nbformat": 4,
 "nbformat_minor": 5
}
