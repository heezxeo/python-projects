{
 "cells": [
  {
   "cell_type": "markdown",
   "id": "e6797e8e-3249-4eea-b0c2-d8f08d791a8b",
   "metadata": {},
   "source": [
    "### Auomated Web Scraper"
   ]
  },
  {
   "cell_type": "code",
   "execution_count": 62,
   "id": "e05cd837-d879-4412-adbb-7bacc015dfc3",
   "metadata": {},
   "outputs": [],
   "source": [
    "from bs4 import BeautifulSoup\n",
    "import requests\n",
    "import pandas as pd\n",
    "import os \n",
    "from datetime import datetime\n",
    "import time "
   ]
  },
  {
   "cell_type": "code",
   "execution_count": 63,
   "id": "496e94fe-481a-4822-a5ac-cd7ad40056af",
   "metadata": {},
   "outputs": [],
   "source": [
    "def auto_crypto_pull():\n",
    "\n",
    "    url = 'https://coinmarketcap.com/currencies/bitcoin/'\n",
    "    page = requests.get(url)\n",
    "    soup = BeautifulSoup(page.text, 'html')\n",
    "    \n",
    "    Bitcoin = soup.find('span', 'sc-f70bb44c-0 jltoa').text\n",
    "    crypto_name = Bitcoin.replace('\\xa0', '')\n",
    "    \n",
    "    crypto_price = soup.find('span', class_ = 'sc-f70bb44c-0 jxpCgO base-text').text\n",
    "    final_price = crypto_price.replace('$', '')\n",
    "    \n",
    "    dt = datetime.now()\n",
    "    \n",
    "    dict = {'Crypto Name': crypto_name,\n",
    "            'Price': final_price,\n",
    "           'TimeStamp': dt}\n",
    "    df = pd.DataFrame([dict])\n",
    "    \n",
    "    if os.path.exists('/Users/kimberly/Downloads/AnalystBuilder Resources/Python Beginner/Cyrpto_Auto.csv'):\n",
    "        df.to_csv('/Users/kimberly/Downloads/AnalystBuilder Resources/Python Beginner/Cyrpto_Auto.csv', mode = 'a', header = False)\n",
    "    else:\n",
    "        df.to_csv('/Users/kimberly/Downloads/AnalystBuilder Resources/Python Beginner/Cyrpto_Auto.csv')\n",
    "    print(df)"
   ]
  },
  {
   "cell_type": "code",
   "execution_count": null,
   "id": "35645f79-978a-4da8-a872-aaadbc2072b1",
   "metadata": {},
   "outputs": [
    {
     "name": "stdout",
     "output_type": "stream",
     "text": [
      "     Crypto Name      Price                  TimeStamp\n",
      "0  Bitcoin price  69,417.58 2024-05-23 13:17:41.747505\n"
     ]
    }
   ],
   "source": [
    "while True:\n",
    "    auto_crypto_pull()\n",
    "    time.sleep(10)"
   ]
  },
  {
   "cell_type": "code",
   "execution_count": null,
   "id": "628c6622-20cc-4768-883a-0888eeec436b",
   "metadata": {},
   "outputs": [],
   "source": []
  },
  {
   "cell_type": "code",
   "execution_count": null,
   "id": "4765d39d-350a-4f3c-830d-0b5be1177447",
   "metadata": {},
   "outputs": [],
   "source": []
  },
  {
   "cell_type": "code",
   "execution_count": null,
   "id": "ab15e96d-c238-4ed8-b4a4-76285af20dd6",
   "metadata": {},
   "outputs": [],
   "source": []
  },
  {
   "cell_type": "code",
   "execution_count": null,
   "id": "b1d8b2fb-a9d2-4e36-b44f-a45e4d51e114",
   "metadata": {},
   "outputs": [],
   "source": []
  },
  {
   "cell_type": "code",
   "execution_count": null,
   "id": "ccea4280-2be4-4eb2-8e68-f8eb151fbcea",
   "metadata": {},
   "outputs": [],
   "source": []
  },
  {
   "cell_type": "code",
   "execution_count": null,
   "id": "1f82d08a-35c8-4af6-979f-1f60c9d79ba3",
   "metadata": {},
   "outputs": [],
   "source": []
  },
  {
   "cell_type": "code",
   "execution_count": null,
   "id": "224fdc9b-59a7-4164-ba3d-276dacebaaaf",
   "metadata": {},
   "outputs": [],
   "source": []
  },
  {
   "cell_type": "code",
   "execution_count": null,
   "id": "8fbdb902-da4f-4e52-85e7-fe3b4a4b1924",
   "metadata": {},
   "outputs": [],
   "source": []
  },
  {
   "cell_type": "code",
   "execution_count": null,
   "id": "0244e029-c92b-4d00-9a42-b7cc50dc3a51",
   "metadata": {},
   "outputs": [],
   "source": []
  },
  {
   "cell_type": "code",
   "execution_count": null,
   "id": "8aabb4d7-bf22-4b67-9680-7dea126276e5",
   "metadata": {},
   "outputs": [],
   "source": []
  },
  {
   "cell_type": "code",
   "execution_count": null,
   "id": "c360b16f-c4e0-4527-9b6c-7117e1047fa5",
   "metadata": {},
   "outputs": [],
   "source": []
  },
  {
   "cell_type": "code",
   "execution_count": null,
   "id": "9999553c-61e5-46da-bc09-96d082fbaad3",
   "metadata": {},
   "outputs": [],
   "source": []
  },
  {
   "cell_type": "code",
   "execution_count": null,
   "id": "4132659f-87b5-41f8-9f1b-9cc5ad091d8c",
   "metadata": {},
   "outputs": [],
   "source": []
  }
 ],
 "metadata": {
  "kernelspec": {
   "display_name": "Python 3 (ipykernel)",
   "language": "python",
   "name": "python3"
  },
  "language_info": {
   "codemirror_mode": {
    "name": "ipython",
    "version": 3
   },
   "file_extension": ".py",
   "mimetype": "text/x-python",
   "name": "python",
   "nbconvert_exporter": "python",
   "pygments_lexer": "ipython3",
   "version": "3.11.7"
  }
 },
 "nbformat": 4,
 "nbformat_minor": 5
}
